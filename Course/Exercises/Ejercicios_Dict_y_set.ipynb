{
  "nbformat": 4,
  "nbformat_minor": 0,
  "metadata": {
    "colab": {
      "provenance": []
    },
    "kernelspec": {
      "name": "python3",
      "display_name": "Python 3"
    },
    "language_info": {
      "name": "python"
    }
  },
  "cells": [
    {
      "cell_type": "markdown",
      "source": [
        "## Ejercicios"
      ],
      "metadata": {
        "id": "ysofhhZQh59h"
      }
    },
    {
      "cell_type": "markdown",
      "source": [
        "### Ejercicio 1: ¿Qué proteinas?\n",
        "\n",
        "Escribe un código que diga que protenias aparecen en la lista de proteinas que se da como entrada."
      ],
      "metadata": {
        "id": "dKVuOcj7h7cx"
      }
    },
    {
      "cell_type": "code",
      "source": [
        "proteinas = [\"Val\",\"Val\",\"Phe\", \"Asp\",\"Phe\", \"Leu\", \"Val\", \"Ala\",\"Phe\", \"Asp\",\"Val\",\"Phe\", \"Asp\", \"Val\", \"Cys\"]"
      ],
      "metadata": {
        "id": "fHKckCCgiUvp"
      },
      "execution_count": null,
      "outputs": []
    },
    {
      "cell_type": "code",
      "source": [],
      "metadata": {
        "id": "fbYkODLsArm3"
      },
      "execution_count": null,
      "outputs": []
    },
    {
      "cell_type": "markdown",
      "source": [
        "### Ejercicio 2: Cuenta las bases\n",
        "\n",
        "Haz un diccionario con las bases de ADN como key y 0 como value. Haz una función que cuente el número de cada base del adn de entrada. Devuelve los valores del diccionario. ¿Crees que es más rápido que el que programamos en el tema anteior? ¿Por qué?"
      ],
      "metadata": {
        "id": "vCr6aXUgi7Ff"
      }
    },
    {
      "cell_type": "code",
      "source": [
        "adn = \"GGCATGTTGGGAACAGATGTAGGTAGTTGGCAGGGGGGGGGCTTGTTTCTGTCGAAGTACTATATCCGTGCTTCTCACCCTCATGTATGAGGCGCTTCTCTCGGATACCACTTAGACTTGTTTCCTCCCTTGTACACCCAGGACACCTCACGGATAATTGACCCCCCTGAACCAGAGTAGTTATGGCTTGGGCACGTTGATATGGGTAGCTCCTGACGAAGGGGCAGCACGCCTAAAGTACATTTGTAAGGGCTTATGAGATATACAACTACATAAGAAGAAGGCTGACTCGTTTTAGAATAGATCGAACTGTGAGTTGGTATCAGCCTTTAGGATAGATTGACTCATTTCGCCCTATGCAAAACGCACTCCGGGTGTTGACCCAAGGCCCGATGACCGGTAACGCCATGGCCGGTAGCTCTTCCGCCGCCGACTTAACTAGAGCAGACACACTGCAGTGGACACGAAGAGTACCACGTTATCACGTGACACACTCTTCGATTCTGGCCTAGTCATCCACTTGTCTATCCATAACTGGCATTTAGTGCGGACAGTATCCTGGAGCTTAGATAAAAGCACCCCCAGCGCCGTTTGAACCACAACAAGTACTCCCAGGAATGGGTGCGAAGGGTCTGACACGTTAGTTATGTTGGAGAATCAGGCGCGAATGCGCCCCTTTTATTATTGTGTGAAATCTAACTACATCGATCGTAGGGAGCCTAAACGTGACTCCACATTATGGCCTGTACCCAGAACCTCAGACTGCTACCCGTTCTTCTTGCATTAAACTTACGCGCGTTATTAATCCTACGACCAGATTTACATTAGCCTTTCAACTGTAGATAAATTCCAGTTACTAAACTCTGGGCCGCTGAGTCGTTAAACCATACTGTCACCCTATCGCGCATCTAGTTCGACGACGGTAGCCATCTTACCGAAGAGTTGTTGAACTGATTATGCGGAGATGGCTAAAGAGGTCTTAAGGCAGGTACGTCACAAG\""
      ],
      "metadata": {
        "id": "1NLeB8KDjY6p"
      },
      "execution_count": null,
      "outputs": []
    },
    {
      "cell_type": "code",
      "source": [
        "def count_base(dna):\n",
        "  dict_bases= {\"A\":0,\"T\":0, #... Añadir el resto}\n",
        "  # El codigo aqui\n",
        "  return dict_bases.values()"
      ],
      "metadata": {
        "id": "xo4ScmyDAsy_"
      },
      "execution_count": null,
      "outputs": []
    },
    {
      "cell_type": "code",
      "source": [
        "import matplotlib.pyplot as plt\n",
        "\n",
        "a,c,g,t = count(adn)\n",
        "\n",
        "fig = plt.figure()\n",
        "ax = fig.add_axes([0,0,1,1])\n",
        "bases = ['A', 'C', 'G', 'T']\n",
        "counts = [a,c,g,t]\n",
        "ax.bar(bases,counts)\n",
        "plt.show()"
      ],
      "metadata": {
        "colab": {
          "base_uri": "https://localhost:8080/",
          "height": 540
        },
        "id": "6T1snWG9jdBp",
        "outputId": "d68216ad-0fc2-4d8e-d9b9-74c09e85f1c7"
      },
      "execution_count": null,
      "outputs": [
        {
          "output_type": "display_data",
          "data": {
            "text/plain": [
              "<Figure size 640x480 with 1 Axes>"
            ],
            "image/png": "[encoded data removed]"
          },
          "metadata": {}
        }
      ]
    },
    {
      "cell_type": "markdown",
      "source": [
        "**Ejercicio 3: Transcripción con diccioanarios**"
      ],
      "metadata": {
        "id": "mLip_Am3mBgS"
      }
    },
    {
      "cell_type": "markdown",
      "source": [
        "Transcribe el ADN a ARNm"
      ],
      "metadata": {
        "id": "OFlAQN8RmNZK"
      }
    },
    {
      "cell_type": "code",
      "source": [
        "dna = \"ATCGCCGGCAGTCCGCATGCGAACTCACATTGCTGGATGACTCGAGCCACCCTCGCAACCCTGCCCCCCTGTGCTGTGTCAAAAATTCCCTGACAACTCCAAGCTCTTTGATATGTGCGTGCGTCCCGAGCGTACCTTGCATCAAGCGTGATAAAAGTAGTGAACAATTCCGAGGATAAATATAGCGCACCTTACCTGGGCCTGAGCGTGCAGAGTGAACCCATAATCACTCCTAATTTGAATTCCGTGGGCTCCGCGCAAGTGCTTAGTTGCCTAGCGGCGTAGTAGTCGACTCTCACGAGGATCGAATAACGATCCTATTCTCTGGTCCAAATGGAGAGAGGGTGCCGAGCACGGATTGGTCTACAATAGCTATTCATTGACCGCTAAGCGGTCGCGCCGTACCCGGTCACGCGGTTCAGCGAGCGGCTCGTTTTGAGTCTTTTGTAAAGAGACTCGGGCCCATCTCTGCTGACAGATGATCGCTTTGCAGTTTTAATCCAGAAGCAGACTCAGCTTAGCCTATTCTTAGTCAAGTCCTAATTAATAGTGAAGTGTCTGCCAACCGAAACAGGCTAAAAGTTAACGCTAGATACTCGTCTTTGGCTTGTCCGTCGCACTTGCGACCTAGGGCGGGGTCACCGGCAGCTGCTTCTATCCCGCAATCCCTGGCGGCCTATGCAGGATGCTGCTTCCCACTCTAGCATGGAGGCGGCCAAATTCTGCTCTGGCTCTCTTCTTACTGATGTGCGAGACTCCGTCGAGTCCTAAAATGTCTAGGGAGTGTGCGATAATGCGGTGTCAGATGGTCCGGAACAGGAGGATACTATTCTGTCTGGAAAGATCTCTGGTGAATTAAAAGGGTAGTTTCAAGCTTAAATCCTCAATTTTGTCTCGGCTTCCGGAGATAGACACCGCACACTAGCACGATCTCAGGATCAAGGTTTCGGAGTTAAGTAGCGCCAAGCAGTCTCAGGTGCCTCGTCTTATGCATAAGACC\""
      ],
      "metadata": {
        "id": "a7O3HckVhxLD"
      },
      "execution_count": null,
      "outputs": []
    },
    {
      "cell_type": "markdown",
      "source": [
        "**Ejercicio 4:** NO HACE FALTA DICT NI SECT\n",
        "\n",
        "Separar en Codones una cadena de ARNm. Haz una lista de codones (de 3 bases). "
      ],
      "metadata": {
        "id": "_ALFYI7Im-uz"
      }
    },
    {
      "cell_type": "code",
      "source": [
        "arn = \"CACGGCCGGGCAUCAAUUACCCGUAAACUCAAU\""
      ],
      "metadata": {
        "id": "PdEZVhZOnYDD"
      },
      "execution_count": null,
      "outputs": []
    },
    {
      "cell_type": "markdown",
      "source": [
        "**Ejercio 5**\n",
        "\n",
        "Utilizar la función del ejercicio anterior para separar en codones las bases y tranducir a Proteinas con el diccionario siguiente:"
      ],
      "metadata": {
        "id": "F0aK3TeYn2i6"
      }
    },
    {
      "cell_type": "code",
      "source": [
        "arn = \"CACGGCCGGGCAUCAAUUACCCGUAAACUCAAU\""
      ],
      "metadata": {
        "id": "N3eZu99PBx_3"
      },
      "execution_count": null,
      "outputs": []
    },
    {
      "cell_type": "code",
      "source": [
        "codon_to_prot = { \n",
        "        'AAA': 'K', 'AAC': 'N', 'AAG': 'K', 'AAU': 'N', 'ACA': 'T',\n",
        "        'ACC': 'T', 'ACG': 'T', 'ACU': 'T', 'AGA': 'R', 'AGC': 'S',\n",
        "        'AGG': 'R', 'AGU': 'S', 'AUA': 'I', 'AUC': 'I', 'AUG': 'M',\n",
        "        'AUU': 'I', 'CAA': 'Q', 'CAC': 'H', 'CAG': 'Q', 'CAU': 'H',\n",
        "        'CCA': 'P', 'CCC': 'P', 'CCG': 'P', 'CCU': 'P', 'CGA': 'R',\n",
        "        'CGC': 'R', 'CGG': 'R', 'CGU': 'R', 'CUA': 'L', 'CUC': 'L',\n",
        "        'CUG': 'L', 'CUU': 'L', 'GAA': 'E', 'GAC': 'D', 'GAG': 'E',\n",
        "        'GAU': 'D', 'GCA': 'A', 'GCC': 'A', 'GCG': 'A', 'GCU': 'A',\n",
        "        'GGA': 'G', 'GGC': 'G', 'GGG': 'G', 'GGU': 'G', 'GUA': 'V',\n",
        "        'GUC': 'V', 'GUG': 'V', 'GUU': 'V', 'UAC': 'Y', 'UAU': 'Y',\n",
        "        'UCA': 'S', 'UCC': 'S', 'UCG': 'S', 'UCU': 'S', 'UGC': 'C',\n",
        "        'UGG': 'W', 'UGU': 'C', 'UUA': 'L', 'UUC': 'F', 'UUG': 'L',\n",
        "        'UUU': 'F', 'UAA': '*', 'UAG': '*', 'UGA': '*',\n",
        "    }"
      ],
      "metadata": {
        "id": "0O5xR-hdnfnz"
      },
      "execution_count": null,
      "outputs": []
    },
    {
      "cell_type": "markdown",
      "source": [
        "**Ejercicio 6**\n",
        "\n",
        "Haz un diccionario que contenga para cada proteina una lista de codones"
      ],
      "metadata": {
        "id": "9fzNTBc6ovcS"
      }
    },
    {
      "cell_type": "code",
      "source": [],
      "metadata": {
        "id": "_UpRIc1pB6V_"
      },
      "execution_count": null,
      "outputs": []
    }
  ]
}