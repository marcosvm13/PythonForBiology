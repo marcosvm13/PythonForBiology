{
  "nbformat": 4,
  "nbformat_minor": 0,
  "metadata": {
    "colab": {
      "provenance": []
    },
    "kernelspec": {
      "name": "python3",
      "display_name": "Python 3"
    },
    "language_info": {
      "name": "python"
    }
  },
  "cells": [
    {
      "cell_type": "markdown",
      "source": [
        "## **Ejercicios**"
      ],
      "metadata": {
        "id": "KL9KvSzVlo98"
      }
    },
    {
      "cell_type": "markdown",
      "source": [
        "### **Ejercicio 1:**"
      ],
      "metadata": {
        "id": "ilgqhFd8lrY7"
      }
    },
    {
      "cell_type": "markdown",
      "source": [
        "Formatea el siguiente gen para que todas las bases queden juntas:\n",
        "\n",
        "Fuente: https://www.ncbi.nlm.nih.gov/data-hub/taxonomy/7955/ (search: zebrafish[orgn])"
      ],
      "metadata": {
        "id": "LLHxdz80Ugxo"
      }
    },
    {
      "cell_type": "code",
      "source": [
        "adn = \"\"\"1 tggcctactg gtgttttaga aaagtaccgc gtaaacagat ccaggccaaa tagcattttg\n",
        "       61 ttcttgctgc tgtaagttat cgttataatt ttaaaaggtt gtttaacaga gccatgtctt\n",
        "      121 gcagaagagg ggccttaatt gttctagaag gagttgacag agcaggaaaa accacacaat\n",
        "      181 gccaaaaact agtgcaggcg atacagcaga gcggacgggc ggcagaaatt atgcgatttc\n",
        "      241 cagacagaac tactaagatt ggacaactca tcagttcata cctggagaag aagagcaatc\n",
        "      301 tggaggatca caccgttcat ctgctgttct ctgcaaaccg atgggaaatg gtgcctgtga\n",
        "      361 tgaaacagaa gttggaggaa ggaattaatc tagtggtgga tcgctatgca ttttcaggag\n",
        "      421 tggcttttac tagtgccaag cctggctttt ctctggaatg gtgcatgaat ccagatgtgg\n",
        "      481 gacttccaaa accagacctg gtcatgtttt tacagctcaa tcccaatgtg gctgcaaacc\n",
        "      541 gcggagaata cggaaatgaa cgatatgaga cgagtgcttt ccaacgtacg gttcaacaac\n",
        "      601 ggtttgaaga gctcatgcag gatacctcaa tcaactggaa ggtgattgat gctgcgagga\n",
        "      661 ccatagaaga agtccacaaa gatataaaag acttgagtga aaacatcatc agtttagctg\n",
        "      721 aggaacagcc agttggagag ctgtggaggt gaactcatct ctgctgatgt ttttataaac\n",
        "      781 ttcatctttt gtttttctgt taataataga gaaacttaag attttatttt attttttaat\n",
        "      841 gattaaataa ataattcata aaataaaaaa aaaaaaaaaa aaaaaaaaaa aaaaaaaaa\"\"\""
      ],
      "metadata": {
        "id": "oDLDFQMFYdu-"
      },
      "execution_count": null,
      "outputs": []
    },
    {
      "cell_type": "code",
      "source": [],
      "metadata": {
        "id": "GT4qIFl7_hY_"
      },
      "execution_count": null,
      "outputs": []
    },
    {
      "cell_type": "markdown",
      "source": [
        "### **Ejercicio 2**"
      ],
      "metadata": {
        "id": "Hz3ZS-GQcBdg"
      }
    },
    {
      "cell_type": "markdown",
      "source": [
        "Escribe en formato tabla, continuando el formato del ejemplo otros de los aminoacidos:\n",
        "\n",
        "* Metalina\n",
        "* Asparagina"
      ],
      "metadata": {
        "id": "z_UDJsj9p7p2"
      }
    },
    {
      "cell_type": "code",
      "source": [
        "###############################################\n",
        "###########    DATOS DE EJEMPLO   #############\n",
        "###############################################\n",
        "\n",
        "\n",
        "ac, let, cod = \"Amino acid\", \"3-letter\", \"codon\"\n",
        "linea_ac, linea_let, linea_cod = \"----------\", \"--------\", \"-----\"\n",
        "\n",
        "#############   Aspartate   ####################\n",
        "asp_nombre, asp_simp, asp_cod = \"Aspartate\", \"Asp\", \"GAC\"\n",
        "asp_cod2 =  \"GAU\"\n",
        "linea_final = \"-----------------------------\"\n",
        "\n",
        "\n",
        "###############################################\n",
        "###############   TU CODIGO   #################\n",
        "###############################################\n",
        "\n",
        "#############   metalina   ####################\n",
        "metalina_nombre, metalina_simp, metalina_cod = \"\", \"\", \"\"\n",
        "\n",
        "#############   Asparagina   ####################"
      ],
      "metadata": {
        "id": "lxvhNICYUPkL"
      },
      "execution_count": null,
      "outputs": []
    },
    {
      "cell_type": "code",
      "source": [
        "###############################################\n",
        "###########    DATOS DE EJEMPLO   #############\n",
        "###############################################\n",
        "\n",
        "#############   Título   ####################\n",
        "print(f\"{ac:>12} {let:>10} {cod:>7}\")\n",
        "\n",
        "#############   Linea de separación titulo   ####################\n",
        "print(f\"{linea_ac:>12} {linea_let:>10} {linea_cod:>7}\")\n",
        "\n",
        "#############   Aspartate   ####################\n",
        "print(f\"{asp_nombre:>12} {asp_simp:>10} {asp_cod:>7}\")\n",
        "print(f\"{vacia:>12} {vacia:>10} {asp_cod2:>7}\")\n",
        "\n",
        "#############   Linea de separación   ####################\n",
        "print(f\"{linea_final:>32}\")\n",
        "\n",
        "\n",
        "#############   metalina   ####################\n",
        "print(f\"{metalina_nombre:>12} {metalina_simp:>10} {metalina_cod:>7}\")\n",
        "\n",
        "#############   Linea de separación   ####################\n",
        "print(f\"{linea_final:>32}\")\n",
        "\n",
        "#############   Asparagina   ####################\n",
        "\n",
        "\n",
        "#############   Linea de separación   ####################\n",
        "print(f\"{linea_final:>32}\")"
      ],
      "metadata": {
        "id": "t-wvMLr-WTHk"
      },
      "execution_count": null,
      "outputs": []
    },
    {
      "cell_type": "markdown",
      "source": [
        "Modifica el código para que si hay una segundo codón asociado a la proteina no vuelva a imprimir su nombre y nombre simplificado."
      ],
      "metadata": {
        "id": "dZlnp6zPXpHm"
      }
    },
    {
      "cell_type": "markdown",
      "source": [
        "AYUDA: https://www.hgmd.cf.ac.uk/docs/cd_amino.html"
      ],
      "metadata": {
        "id": "fHS54X86sTW4"
      }
    },
    {
      "cell_type": "markdown",
      "source": [
        "### **Ejercicio 3**\n",
        "\n",
        "La suma de los primeros n números enteros es $\\text{suma}=\\frac{n(n+1)}{2}$. Dado un número n dado por el usuario muestra por pantalla el valor de la suma de los n primeros enteros:"
      ],
      "metadata": {
        "id": "6SJBT4Nlcs63"
      }
    },
    {
      "cell_type": "code",
      "source": [],
      "metadata": {
        "id": "ftySXD7FboJA"
      },
      "execution_count": null,
      "outputs": []
    },
    {
      "cell_type": "markdown",
      "source": [
        "### **Ejercicio 4**"
      ],
      "metadata": {
        "id": "_W2w99IklJDq"
      }
    },
    {
      "cell_type": "markdown",
      "source": [
        "Utilizando métodos de strings remplaza la base T del ADN por la de base U del ARN, en la siguiente cadena:"
      ],
      "metadata": {
        "id": "-s0x9ayglOaa"
      }
    },
    {
      "cell_type": "code",
      "source": [
        "adn = \"GGCATGTTGGGAACAGATGTAGGTAGTTGGCAGGGGGGGGGCTTGTTTCTGTCGAAGTACTATATCCGTGCTTCTCACCCTCATGTATGAGGCGCTTCTCTCGGATACCACTTAGACTTGTTTCCTCCCTTGTACACCCAGGACACCTCACGGATAATTGACCCCCCTGAACCAGAGTAGTTATGGCTTGGGCACGTTGATATGGGTAGCTCCTGACGAAGGGGCAGCACGCCTAAAGTACATTTGTAAGGGCTTATGAGATATACAACTACATAAGAAGAAGGCTGACTCGTTTTAGAATAGATCGAACTGTGAGTTGGTATCAGCCTTTAGGATAGATTGACTCATTTCGCCCTATGCAAAACGCACTCCGGGTGTTGACCCAAGGCCCGATGACCGGTAACGCCATGGCCGGTAGCTCTTCCGCCGCCGACTTAACTAGAGCAGACACACTGCAGTGGACACGAAGAGTACCACGTTATCACGTGACACACTCTTCGATTCTGGCCTAGTCATCCACTTGTCTATCCATAACTGGCATTTAGTGCGGACAGTATCCTGGAGCTTAGATAAAAGCACCCCCAGCGCCGTTTGAACCACAACAAGTACTCCCAGGAATGGGTGCGAAGGGTCTGACACGTTAGTTATGTTGGAGAATCAGGCGCGAATGCGCCCCTTTTATTATTGTGTGAAATCTAACTACATCGATCGTAGGGAGCCTAAACGTGACTCCACATTATGGCCTGTACCCAGAACCTCAGACTGCTACCCGTTCTTCTTGCATTAAACTTACGCGCGTTATTAATCCTACGACCAGATTTACATTAGCCTTTCAACTGTAGATAAATTCCAGTTACTAAACTCTGGGCCGCTGAGTCGTTAAACCATACTGTCACCCTATCGCGCATCTAGTTCGACGACGGTAGCCATCTTACCGAAGAGTTGTTGAACTGATTATGCGGAGATGGCTAAAGAGGTCTTAAGGCAGGTACGTCACAAG\""
      ],
      "metadata": {
        "id": "VR_x__f6lNxr"
      },
      "execution_count": null,
      "outputs": []
    },
    {
      "cell_type": "code",
      "source": [
        "def ARNm(adn): # Esto no es transcripcion\n",
        "  return "
      ],
      "metadata": {
        "id": "3vz8JB4Sb5kp"
      },
      "execution_count": null,
      "outputs": []
    },
    {
      "cell_type": "code",
      "source": [
        "ARNm(adn)"
      ],
      "metadata": {
        "id": "GWT0rJrdCN5A"
      },
      "execution_count": null,
      "outputs": []
    }
  ]
}