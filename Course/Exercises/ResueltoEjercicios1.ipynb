{
  "nbformat": 4,
  "nbformat_minor": 0,
  "metadata": {
    "colab": {
      "provenance": []
    },
    "kernelspec": {
      "name": "python3",
      "display_name": "Python 3"
    },
    "language_info": {
      "name": "python"
    }
  },
  "cells": [
    {
      "cell_type": "markdown",
      "source": [
        "## **Ejercicios**"
      ],
      "metadata": {
        "id": "KL9KvSzVlo98"
      }
    },
    {
      "cell_type": "markdown",
      "source": [
        "### **Ejercicio 1:**"
      ],
      "metadata": {
        "id": "ilgqhFd8lrY7"
      }
    },
    {
      "cell_type": "markdown",
      "source": [
        "Formatea el siguiente gen para que todas las bases queden juntas:\n",
        "\n",
        "Fuente: https://www.ncbi.nlm.nih.gov/data-hub/taxonomy/7955/ (search: zebrafish[orgn])"
      ],
      "metadata": {
        "id": "LLHxdz80Ugxo"
      }
    },
    {
      "cell_type": "code",
      "source": [
        "adn = \"\"\"1 tggcctactg gtgttttaga aaagtaccgc gtaaacagat ccaggccaaa tagcattttg\n",
        "       61 ttcttgctgc tgtaagttat cgttataatt ttaaaaggtt gtttaacaga gccatgtctt\n",
        "      121 gcagaagagg ggccttaatt gttctagaag gagttgacag agcaggaaaa accacacaat\n",
        "      181 gccaaaaact agtgcaggcg atacagcaga gcggacgggc ggcagaaatt atgcgatttc\n",
        "      241 cagacagaac tactaagatt ggacaactca tcagttcata cctggagaag aagagcaatc\n",
        "      301 tggaggatca caccgttcat ctgctgttct ctgcaaaccg atgggaaatg gtgcctgtga\n",
        "      361 tgaaacagaa gttggaggaa ggaattaatc tagtggtgga tcgctatgca ttttcaggag\n",
        "      421 tggcttttac tagtgccaag cctggctttt ctctggaatg gtgcatgaat ccagatgtgg\n",
        "      481 gacttccaaa accagacctg gtcatgtttt tacagctcaa tcccaatgtg gctgcaaacc\n",
        "      541 gcggagaata cggaaatgaa cgatatgaga cgagtgcttt ccaacgtacg gttcaacaac\n",
        "      601 ggtttgaaga gctcatgcag gatacctcaa tcaactggaa ggtgattgat gctgcgagga\n",
        "      661 ccatagaaga agtccacaaa gatataaaag acttgagtga aaacatcatc agtttagctg\n",
        "      721 aggaacagcc agttggagag ctgtggaggt gaactcatct ctgctgatgt ttttataaac\n",
        "      781 ttcatctttt gtttttctgt taataataga gaaacttaag attttatttt attttttaat\n",
        "      841 gattaaataa ataattcata aaataaaaaa aaaaaaaaaa aaaaaaaaaa aaaaaaaaa\"\"\""
      ],
      "metadata": {
        "id": "oDLDFQMFYdu-"
      },
      "execution_count": null,
      "outputs": []
    },
    {
      "cell_type": "code",
      "source": [
        "adn = adn.replace(' ','').replace('\\n','').replace(\"1\",'').replace(\"2\",'').replace(\"3\",'').replace(\"4\",'').replace(\"5\",'').replace(\"6\",'').replace(\"7\",'').replace(\"8\",'').replace(\"9\",'').replace(\"10\",'')"
      ],
      "metadata": {
        "id": "GT4qIFl7_hY_"
      },
      "execution_count": null,
      "outputs": []
    },
    {
      "cell_type": "code",
      "source": [
        "adn"
      ],
      "metadata": {
        "colab": {
          "base_uri": "https://localhost:8080/",
          "height": 191
        },
        "id": "Lvo7tq8j_9He",
        "outputId": "0b1f81d3-b1ba-4291-800e-579e1dcb1261"
      },
      "execution_count": null,
      "outputs": [
        {
          "output_type": "execute_result",
          "data": {
            "text/plain": [
              "'tggcctactggtgttttagaaaagtaccgcgtaaacagatccaggccaaatagcattttgttcttgctgctgtaagttatcgttataattttaaaaggttgtttaacagagccatgtcttgcagaagaggggccttaattgttctagaaggagttgacagagcaggaaaaaccacacaatgccaaaaactagtgcaggcgatacagcagagcggacgggcggcagaaattatgcgatttccagacagaactactaagattggacaactcatcagttcatacctggagaagaagagcaatc0tggaggatcacaccgttcatctgctgttctctgcaaaccgatgggaaatggtgcctgtgatgaaacagaagttggaggaaggaattaatctagtggtggatcgctatgcattttcaggagtggcttttactagtgccaagcctggcttttctctggaatggtgcatgaatccagatgtgggacttccaaaaccagacctggtcatgtttttacagctcaatcccaatgtggctgcaaaccgcggagaatacggaaatgaacgatatgagacgagtgctttccaacgtacggttcaacaac0ggtttgaagagctcatgcaggatacctcaatcaactggaaggtgattgatgctgcgaggaccatagaagaagtccacaaagatataaaagacttgagtgaaaacatcatcagtttagctgaggaacagccagttggagagctgtggaggtgaactcatctctgctgatgtttttataaacttcatcttttgtttttctgttaataatagagaaacttaagattttattttattttttaatgattaaataaataattcataaaataaaaaaaaaaaaaaaaaaaaaaaaaaaaaaaaaaa'"
            ],
            "application/vnd.google.colaboratory.intrinsic+json": {
              "type": "string"
            }
          },
          "metadata": {},
          "execution_count": 8
        }
      ]
    },
    {
      "cell_type": "markdown",
      "source": [
        "### **Ejercicio 2**"
      ],
      "metadata": {
        "id": "Hz3ZS-GQcBdg"
      }
    },
    {
      "cell_type": "markdown",
      "source": [
        "Escribe en formato tabla, continuando el formato del ejemplo otros de los aminoacidos:\n",
        "\n",
        "* Metalina\n",
        "* Asparagina"
      ],
      "metadata": {
        "id": "z_UDJsj9p7p2"
      }
    },
    {
      "cell_type": "code",
      "source": [
        "###############################################\n",
        "###########    DATOS DE EJEMPLO   #############\n",
        "###############################################\n",
        "\n",
        "\n",
        "ac, let, cod = \"Amino acid\", \"3-letter\", \"codon\"\n",
        "linea_ac, linea_let, linea_cod = \"----------\", \"--------\", \"-----\"\n",
        "\n",
        "#############   Aspartate   ####################\n",
        "asp_nombre, asp_simp, asp_cod = \"Aspartate\", \"Asp\", \"GAC\"\n",
        "asp_cod2 =  \"GAU\"\n",
        "linea_final = \"-----------------------------\"\n",
        "\n",
        "\n",
        "###############################################\n",
        "###############   TU CODIGO   #################\n",
        "###############################################\n",
        "\n",
        "#############   metalina   ####################\n",
        "#  Methionine Met ATG\n",
        "metalina_nombre, metalina_simp, metalina_cod = \"Methionine\", \"Met\", \"ATG\"\n",
        "\n",
        "#############   Asparagina   ####################\n",
        "# Arginine  Arg AGA AGG\n",
        "arg_nombre, arg_simp, arg_cod = \"Arginine\",\"Arg\",\"AGA\"\n",
        "arg_cod2= \"AGG\"\n",
        "\n",
        "vacia = \"\""
      ],
      "metadata": {
        "id": "lxvhNICYUPkL"
      },
      "execution_count": null,
      "outputs": []
    },
    {
      "cell_type": "code",
      "source": [
        "###############################################\n",
        "###########    DATOS DE EJEMPLO   #############\n",
        "###############################################\n",
        "\n",
        "#############   Título   ####################\n",
        "print(f\"{ac:>12} {let:>10} {cod:>7}\")\n",
        "\n",
        "#############   Linea de separación titulo   ####################\n",
        "print(f\"{linea_ac:>12} {linea_let:>10} {linea_cod:>7}\")\n",
        "\n",
        "#############   Aspartate   ####################\n",
        "print(f\"{asp_nombre:>12} {asp_simp:>10} {asp_cod:>7}\")\n",
        "print(f\"{vacia:>12} {vacia:>10} {asp_cod2:>7}\")\n",
        "\n",
        "#############   Linea de separación   ####################\n",
        "print(f\"{linea_final:>32}\")\n",
        "\n",
        "\n",
        "#############   metalina   ####################\n",
        "print(f\"{metalina_nombre:>12} {metalina_simp:>10} {metalina_cod:>7}\")\n",
        "\n",
        "#############   Linea de separación   ####################\n",
        "print(f\"{linea_final:>32}\")\n",
        "\n",
        "#############   Asparagina   ####################\n",
        "\n",
        "print(f\"{arg_nombre:>12} {arg_simp:>10} {arg_cod:>7}\")\n",
        "print(f\"{vacia:>12} {vacia:>10} {arg_cod2:>7}\")\n",
        "\n",
        "#############   Linea de separación   ####################\n",
        "print(f\"{linea_final:>32}\")"
      ],
      "metadata": {
        "colab": {
          "base_uri": "https://localhost:8080/"
        },
        "id": "t-wvMLr-WTHk",
        "outputId": "e1284e85-daf1-4987-f6df-eac2288b36ce"
      },
      "execution_count": null,
      "outputs": [
        {
          "output_type": "stream",
          "name": "stdout",
          "text": [
            "  Amino acid   3-letter   codon\n",
            "  ----------   --------   -----\n",
            "   Aspartate        Asp     GAC\n",
            "                            GAU\n",
            "   -----------------------------\n",
            "  Methionine        Met     ATG\n",
            "   -----------------------------\n",
            "    Arginine        Arg     AGA\n",
            "                            AGG\n",
            "   -----------------------------\n"
          ]
        }
      ]
    },
    {
      "cell_type": "markdown",
      "source": [
        "Modifica el código para que si hay una segundo codón asociado a la proteina no vuelva a imprimir su nombre y nombre simplificado."
      ],
      "metadata": {
        "id": "dZlnp6zPXpHm"
      }
    },
    {
      "cell_type": "markdown",
      "source": [
        "AYUDA: https://www.hgmd.cf.ac.uk/docs/cd_amino.html"
      ],
      "metadata": {
        "id": "fHS54X86sTW4"
      }
    },
    {
      "cell_type": "markdown",
      "source": [
        "### **Ejercicio 3**\n",
        "\n",
        "La suma de los primeros n números enteros es $\\text{suma}=\\frac{n(n+1)}{2}$. Dado un número n dado por el usuario muestra por pantalla el valor de la suma de los n primeros enteros:"
      ],
      "metadata": {
        "id": "6SJBT4Nlcs63"
      }
    },
    {
      "cell_type": "code",
      "source": [
        "############# Input Usuario #############\n",
        "n = int(input(\"Introduce un numero entero: \"))\n",
        "\n",
        "#############  imprimir la suma de los n primeros numeros \n",
        "suma = n * (n+1) / 2\n",
        "\n",
        "print(f\"La suma de los primeros números enteros desde 1 hasta {n} es {suma}\")"
      ],
      "metadata": {
        "id": "ftySXD7FboJA",
        "colab": {
          "base_uri": "https://localhost:8080/"
        },
        "outputId": "3b4642d1-6c07-446c-8e57-7f117e05fc8c"
      },
      "execution_count": null,
      "outputs": [
        {
          "output_type": "stream",
          "name": "stdout",
          "text": [
            "Introduce un numero entero: 5\n",
            "La suma de los primeros números enteros desde 1 hasta 5 es 15.0\n"
          ]
        }
      ]
    },
    {
      "cell_type": "markdown",
      "source": [
        "### **Ejercicio 4**"
      ],
      "metadata": {
        "id": "_W2w99IklJDq"
      }
    },
    {
      "cell_type": "markdown",
      "source": [
        "Utilizando métodos de strings remplaza la base T del ADN por la de base U del ARN, en la siguiente cadena:"
      ],
      "metadata": {
        "id": "-s0x9ayglOaa"
      }
    },
    {
      "cell_type": "code",
      "source": [
        "adn = \"GGCATGTTGGGAACAGATGTAGGTAGTTGGCAGGGGGGGGGCTTGTTTCTGTCGAAGTACTATATCCGTGCTTCTCACCCTCATGTATGAGGCGCTTCTCTCGGATACCACTTAGACTTGTTTCCTCCCTTGTACACCCAGGACACCTCACGGATAATTGACCCCCCTGAACCAGAGTAGTTATGGCTTGGGCACGTTGATATGGGTAGCTCCTGACGAAGGGGCAGCACGCCTAAAGTACATTTGTAAGGGCTTATGAGATATACAACTACATAAGAAGAAGGCTGACTCGTTTTAGAATAGATCGAACTGTGAGTTGGTATCAGCCTTTAGGATAGATTGACTCATTTCGCCCTATGCAAAACGCACTCCGGGTGTTGACCCAAGGCCCGATGACCGGTAACGCCATGGCCGGTAGCTCTTCCGCCGCCGACTTAACTAGAGCAGACACACTGCAGTGGACACGAAGAGTACCACGTTATCACGTGACACACTCTTCGATTCTGGCCTAGTCATCCACTTGTCTATCCATAACTGGCATTTAGTGCGGACAGTATCCTGGAGCTTAGATAAAAGCACCCCCAGCGCCGTTTGAACCACAACAAGTACTCCCAGGAATGGGTGCGAAGGGTCTGACACGTTAGTTATGTTGGAGAATCAGGCGCGAATGCGCCCCTTTTATTATTGTGTGAAATCTAACTACATCGATCGTAGGGAGCCTAAACGTGACTCCACATTATGGCCTGTACCCAGAACCTCAGACTGCTACCCGTTCTTCTTGCATTAAACTTACGCGCGTTATTAATCCTACGACCAGATTTACATTAGCCTTTCAACTGTAGATAAATTCCAGTTACTAAACTCTGGGCCGCTGAGTCGTTAAACCATACTGTCACCCTATCGCGCATCTAGTTCGACGACGGTAGCCATCTTACCGAAGAGTTGTTGAACTGATTATGCGGAGATGGCTAAAGAGGTCTTAAGGCAGGTACGTCACAAG\""
      ],
      "metadata": {
        "id": "VR_x__f6lNxr"
      },
      "execution_count": null,
      "outputs": []
    },
    {
      "cell_type": "code",
      "source": [
        "def ARNm(adn): # Esto no es transcripcion\n",
        "  return adn.replace(\"T\", \"U\")"
      ],
      "metadata": {
        "id": "3vz8JB4Sb5kp"
      },
      "execution_count": null,
      "outputs": []
    },
    {
      "cell_type": "code",
      "source": [
        "ARNm(adn)"
      ],
      "metadata": {
        "colab": {
          "base_uri": "https://localhost:8080/",
          "height": 209
        },
        "id": "GWT0rJrdCN5A",
        "outputId": "8a96aa40-9e85-4af3-e940-5730529e1a59"
      },
      "execution_count": null,
      "outputs": [
        {
          "output_type": "execute_result",
          "data": {
            "text/plain": [
              "'GGCAUGUUGGGAACAGAUGUAGGUAGUUGGCAGGGGGGGGGCUUGUUUCUGUCGAAGUACUAUAUCCGUGCUUCUCACCCUCAUGUAUGAGGCGCUUCUCUCGGAUACCACUUAGACUUGUUUCCUCCCUUGUACACCCAGGACACCUCACGGAUAAUUGACCCCCCUGAACCAGAGUAGUUAUGGCUUGGGCACGUUGAUAUGGGUAGCUCCUGACGAAGGGGCAGCACGCCUAAAGUACAUUUGUAAGGGCUUAUGAGAUAUACAACUACAUAAGAAGAAGGCUGACUCGUUUUAGAAUAGAUCGAACUGUGAGUUGGUAUCAGCCUUUAGGAUAGAUUGACUCAUUUCGCCCUAUGCAAAACGCACUCCGGGUGUUGACCCAAGGCCCGAUGACCGGUAACGCCAUGGCCGGUAGCUCUUCCGCCGCCGACUUAACUAGAGCAGACACACUGCAGUGGACACGAAGAGUACCACGUUAUCACGUGACACACUCUUCGAUUCUGGCCUAGUCAUCCACUUGUCUAUCCAUAACUGGCAUUUAGUGCGGACAGUAUCCUGGAGCUUAGAUAAAAGCACCCCCAGCGCCGUUUGAACCACAACAAGUACUCCCAGGAAUGGGUGCGAAGGGUCUGACACGUUAGUUAUGUUGGAGAAUCAGGCGCGAAUGCGCCCCUUUUAUUAUUGUGUGAAAUCUAACUACAUCGAUCGUAGGGAGCCUAAACGUGACUCCACAUUAUGGCCUGUACCCAGAACCUCAGACUGCUACCCGUUCUUCUUGCAUUAAACUUACGCGCGUUAUUAAUCCUACGACCAGAUUUACAUUAGCCUUUCAACUGUAGAUAAAUUCCAGUUACUAAACUCUGGGCCGCUGAGUCGUUAAACCAUACUGUCACCCUAUCGCGCAUCUAGUUCGACGACGGUAGCCAUCUUACCGAAGAGUUGUUGAACUGAUUAUGCGGAGAUGGCUAAAGAGGUCUUAAGGCAGGUACGUCACAAG'"
            ],
            "application/vnd.google.colaboratory.intrinsic+json": {
              "type": "string"
            }
          },
          "metadata": {},
          "execution_count": 21
        }
      ]
    }
  ]
}