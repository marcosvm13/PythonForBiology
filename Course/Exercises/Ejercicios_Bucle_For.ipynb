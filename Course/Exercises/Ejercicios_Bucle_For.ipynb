{
  "nbformat": 4,
  "nbformat_minor": 0,
  "metadata": {
    "colab": {
      "provenance": []
    },
    "kernelspec": {
      "name": "python3",
      "display_name": "Python 3"
    },
    "language_info": {
      "name": "python"
    }
  },
  "cells": [
    {
      "cell_type": "markdown",
      "source": [
        "**Ejercicio 1: Procesar cadena de ADN**\n",
        "\n",
        "En la siguiente línea de código se muestran 5 secuencias de ADN. Las primeras 14 bases son parte de un adaptador. Elimina este adaptador de todas las secuencias e imprime la longitud de cada cadena sin tener en cuenta el adaptador."
      ],
      "metadata": {
        "id": "dUDrXCuuYohF"
      }
    },
    {
      "cell_type": "code",
      "source": [
        "seq1 = \"ATTCGATTATAAGCTCGATCGATCGATCGATCGATCGATCGATCGATCGATCGATC\"\n",
        "seq2 = \"ATTCGATTATAAGCACTGATCGATCGATCGATCGATCGATGCTATCGTCGT\"\n",
        "seq3 = \"ATTCGATTATAAGCATCGATCACGATCTATCGTACGTATGCATATCGATATCGATCGTAGTC\"\n",
        "seq4 = \"ATTCGATTATAAGCACTATCGATGATCTAGCTACGATCGTAGCTGTA\"\n",
        "seq5 = \"ATTCGATTATAAGCACTAGCTAGTCTCGATGCATGATCAGCTTAGCTGATGATGCTATGCA\""
      ],
      "metadata": {
        "id": "Gfl3-XBqYsit"
      },
      "execution_count": null,
      "outputs": []
    },
    {
      "cell_type": "code",
      "source": [
        "# Vuestro codigo"
      ],
      "metadata": {
        "id": "6gtckNPWhRcJ"
      },
      "execution_count": null,
      "outputs": []
    },
    {
      "cell_type": "markdown",
      "source": [
        "**Ejercicio 2: Encuentra el codón de inicio**\n",
        "\n",
        "Tenemos una secuencia de codones de una célula eucariota. Se pide imprimir toda la secuencia hacia atras hasta encontrar el primer codon de inicio AUC."
      ],
      "metadata": {
        "id": "_4fa6OOUWzfb"
      }
    },
    {
      "cell_type": "code",
      "source": [
        "arn = \"UAUAUUCCCCUCAGUCGCCACCUUUGUAGCAAAAACCCUUUUCACCAUUCAAUUUGUCGCUCAUGAUGCGAGGAGGUUGGGUGUGACCUUAUCCCAGCGCUAUCAAGGGGUGCAACUCAUCUCACUCUUAUACGUUAGAGGGCACCUACAGACACCUCGGCUCACCCUCCCGCCUGAUGUCCCGCCAGGAUAGGGAAUUUCCAUUCAUAGCUAGUCUACUCAGGUACUCACAUUCAAUACGAACUUAGUAUUCUACGCGAAGCUCAUUAUGUAGAUACAAGCUUGGUUGGGUCCUACACUAAGACUGAGGGUGCGGCGGUACGAUCCAGAGCCUAAGAGGUUGCGCUGAUGUUGUGGUUUCCUAGCUAAGUGUUCGGUCAGGUCUCUAGUACUGCUUAGGCUAAAUUGACGCAGACGAGCCUCGUAUCCACCUAUCAUAGAAUUCCCUUUGAUAUCGGGCUGCAGGGUCUCUUAAUAAACUUACAUCCUAUACGUCUACAGUUUAAGACAGCUUGGGAGAUACCGCCCCACGCGACACCAUACAUGAAAACGCGCCAUGCCGGAUCAGGCCUCACUCGUGCACAGCCUAACGCUCUAAUAGUUGAAGUGGUUGGCGGUAGCGGCACAGAGUCACCGAGAACCGGCCAUCGAUGCUGGUAACGAAGAGGUAACCUAUUGCUUAGCGUGUAGAAUGUGUGGGUCAGCCCUAAUGCGAAGUUCGAUGCGACGUGCCGCCAGUGAUGUGACAAUAAGUUCCUAGCUUGCUACCGCGUUCUCCUACAGUUUGAGCAUACUGUCAAUGUUUUUGGGUUCAGUCAGGUGUGUUGGUCUCACAUGUCGCUAUUGAGCAGAGGACAUCAGAGAGGACUGGCAGUGCUUAACGUCUCGGUCAUUUUCCGUACCGAUGUGUGUCUAUUGACCGUCAAUCGACAAUCAUCCGAUGACACUGCUUGUGUCAUCCUGUCCACGCAUGUCCCCCGCAGGUCUAGAUCUGUGGCAG\""
      ],
      "metadata": {
        "id": "PQae7I49Rx2r"
      },
      "execution_count": null,
      "outputs": []
    },
    {
      "cell_type": "markdown",
      "source": [
        "### AYUDA:"
      ],
      "metadata": {
        "id": "fQbidUGFiKvh"
      }
    },
    {
      "cell_type": "code",
      "source": [
        "codones = []\n",
        "\n",
        "for i in range(0, len(arn), 3):\n",
        "    codones.append(arn[i : i + 3])\n",
        "_ = codones.pop()\n",
        "print(codones)"
      ],
      "metadata": {
        "colab": {
          "base_uri": "https://localhost:8080/"
        },
        "id": "VATJUUKsiKkB",
        "outputId": "d2949f14-966f-4dd2-a745-163f383f45d7"
      },
      "execution_count": null,
      "outputs": [
        {
          "output_type": "stream",
          "name": "stdout",
          "text": [
            "['UAU', 'AUU', 'CCC', 'CUC', 'AGU', 'CGC', 'CAC', 'CUU', 'UGU', 'AGC', 'AAA', 'AAC', 'CCU', 'UUU', 'CAC', 'CAU', 'UCA', 'AUU', 'UGU', 'CGC', 'UCA', 'UGA', 'UGC', 'GAG', 'GAG', 'GUU', 'GGG', 'UGU', 'GAC', 'CUU', 'AUC', 'CCA', 'GCG', 'CUA', 'UCA', 'AGG', 'GGU', 'GCA', 'ACU', 'CAU', 'CUC', 'ACU', 'CUU', 'AUA', 'CGU', 'UAG', 'AGG', 'GCA', 'CCU', 'ACA', 'GAC', 'ACC', 'UCG', 'GCU', 'CAC', 'CCU', 'CCC', 'GCC', 'UGA', 'UGU', 'CCC', 'GCC', 'AGG', 'AUA', 'GGG', 'AAU', 'UUC', 'CAU', 'UCA', 'UAG', 'CUA', 'GUC', 'UAC', 'UCA', 'GGU', 'ACU', 'CAC', 'AUU', 'CAA', 'UAC', 'GAA', 'CUU', 'AGU', 'AUU', 'CUA', 'CGC', 'GAA', 'GCU', 'CAU', 'UAU', 'GUA', 'GAU', 'ACA', 'AGC', 'UUG', 'GUU', 'GGG', 'UCC', 'UAC', 'ACU', 'AAG', 'ACU', 'GAG', 'GGU', 'GCG', 'GCG', 'GUA', 'CGA', 'UCC', 'AGA', 'GCC', 'UAA', 'GAG', 'GUU', 'GCG', 'CUG', 'AUG', 'UUG', 'UGG', 'UUU', 'CCU', 'AGC', 'UAA', 'GUG', 'UUC', 'GGU', 'CAG', 'GUC', 'UCU', 'AGU', 'ACU', 'GCU', 'UAG', 'GCU', 'AAA', 'UUG', 'ACG', 'CAG', 'ACG', 'AGC', 'CUC', 'GUA', 'UCC', 'ACC', 'UAU', 'CAU', 'AGA', 'AUU', 'CCC', 'UUU', 'GAU', 'AUC', 'GGG', 'CUG', 'CAG', 'GGU', 'CUC', 'UUA', 'AUA', 'AAC', 'UUA', 'CAU', 'CCU', 'AUA', 'CGU', 'CUA', 'CAG', 'UUU', 'AAG', 'ACA', 'GCU', 'UGG', 'GAG', 'AUA', 'CCG', 'CCC', 'CAC', 'GCG', 'ACA', 'CCA', 'UAC', 'AUG', 'AAA', 'ACG', 'CGC', 'CAU', 'GCC', 'GGA', 'UCA', 'GGC', 'CUC', 'ACU', 'CGU', 'GCA', 'CAG', 'CCU', 'AAC', 'GCU', 'CUA', 'AUA', 'GUU', 'GAA', 'GUG', 'GUU', 'GGC', 'GGU', 'AGC', 'GGC', 'ACA', 'GAG', 'UCA', 'CCG', 'AGA', 'ACC', 'GGC', 'CAU', 'CGA', 'UGC', 'UGG', 'UAA', 'CGA', 'AGA', 'GGU', 'AAC', 'CUA', 'UUG', 'CUU', 'AGC', 'GUG', 'UAG', 'AAU', 'GUG', 'UGG', 'GUC', 'AGC', 'CCU', 'AAU', 'GCG', 'AAG', 'UUC', 'GAU', 'GCG', 'ACG', 'UGC', 'CGC', 'CAG', 'UGA', 'UGU', 'GAC', 'AAU', 'AAG', 'UUC', 'CUA', 'GCU', 'UGC', 'UAC', 'CGC', 'GUU', 'CUC', 'CUA', 'CAG', 'UUU', 'GAG', 'CAU', 'ACU', 'GUC', 'AAU', 'GUU', 'UUU', 'GGG', 'UUC', 'AGU', 'CAG', 'GUG', 'UGU', 'UGG', 'UCU', 'CAC', 'AUG', 'UCG', 'CUA', 'UUG', 'AGC', 'AGA', 'GGA', 'CAU', 'CAG', 'AGA', 'GGA', 'CUG', 'GCA', 'GUG', 'CUU', 'AAC', 'GUC', 'UCG', 'GUC', 'AUU', 'UUC', 'CGU', 'ACC', 'GAU', 'GUG', 'UGU', 'CUA', 'UUG', 'ACC', 'GUC', 'AAU', 'CGA', 'CAA', 'UCA', 'UCC', 'GAU', 'GAC', 'ACU', 'GCU', 'UGU', 'GUC', 'AUC', 'CUG', 'UCC', 'ACG', 'CAU', 'GUC', 'CCC', 'CGC', 'AGG', 'UCU', 'AGA', 'UCU', 'GUG', 'GCA']\n"
          ]
        }
      ]
    },
    {
      "cell_type": "code",
      "source": [],
      "metadata": {
        "id": "qK64QHVXjq8o"
      },
      "execution_count": null,
      "outputs": []
    },
    {
      "cell_type": "markdown",
      "source": [
        "**Ejercicio 3: Replicar**\n",
        "\n",
        "Encuentra el ADN complementario"
      ],
      "metadata": {
        "id": "CpEnfQSOkF_6"
      }
    },
    {
      "cell_type": "code",
      "source": [
        "dna = \"ATCGCCGGCAGTCCGCATGCGAACTCACATTGCTGGATGACTCGAGCCACCCTCGCAACCCTGCCCCCCTGTGCTGTGTCAAAAATTCCCTGACAACTCCAAGCTCTTTGATATGTGCGTGCGTCCCGAGCGTACCTTGCATCAAGCGTGATAAAAGTAGTGAACAATTCCGAGGATAAATATAGCGCACCTTACCTGGGCCTGAGCGTGCAGAGTGAACCCATAATCACTCCTAATTTGAATTCCGTGGGCTCCGCGCAAGTGCTTAGTTGCCTAGCGGCGTAGTAGTCGACTCTCACGAGGATCGAATAACGATCCTATTCTCTGGTCCAAATGGAGAGAGGGTGCCGAGCACGGATTGGTCTACAATAGCTATTCATTGACCGCTAAGCGGTCGCGCCGTACCCGGTCACGCGGTTCAGCGAGCGGCTCGTTTTGAGTCTTTTGTAAAGAGACTCGGGCCCATCTCTGCTGACAGATGATCGCTTTGCAGTTTTAATCCAGAAGCAGACTCAGCTTAGCCTATTCTTAGTCAAGTCCTAATTAATAGTGAAGTGTCTGCCAACCGAAACAGGCTAAAAGTTAACGCTAGATACTCGTCTTTGGCTTGTCCGTCGCACTTGCGACCTAGGGCGGGGTCACCGGCAGCTGCTTCTATCCCGCAATCCCTGGCGGCCTATGCAGGATGCTGCTTCCCACTCTAGCATGGAGGCGGCCAAATTCTGCTCTGGCTCTCTTCTTACTGATGTGCGAGACTCCGTCGAGTCCTAAAATGTCTAGGGAGTGTGCGATAATGCGGTGTCAGATGGTCCGGAACAGGAGGATACTATTCTGTCTGGAAAGATCTCTGGTGAATTAAAAGGGTAGTTTCAAGCTTAAATCCTCAATTTTGTCTCGGCTTCCGGAGATAGACACCGCACACTAGCACGATCTCAGGATCAAGGTTTCGGAGTTAAGTAGCGCCAAGCAGTCTCAGGTGCCTCGTCTTATGCATAAGACC\""
      ],
      "metadata": {
        "id": "7e2FZt6jj5Y4"
      },
      "execution_count": null,
      "outputs": []
    },
    {
      "cell_type": "code",
      "source": [
        "def replicacion(dna):\n",
        "  compl = \"\"\n",
        "  for base in reversed(dna):\n",
        "    if base == \"A\":\n",
        "      compl += \"T\"\n",
        "    if base == \"T\":\n",
        "      compl += \"A\"\n",
        "    if base == \"C\":\n",
        "      compl += \"G\"\n",
        "    if base == \"G\":\n",
        "      compl +=\"C\"\n",
        "  return compl"
      ],
      "metadata": {
        "id": "0NEZCHAwka7S"
      },
      "execution_count": null,
      "outputs": []
    },
    {
      "cell_type": "code",
      "source": [
        "replicacion(dna)"
      ],
      "metadata": {
        "colab": {
          "base_uri": "https://localhost:8080/",
          "height": 161
        },
        "id": "WKuG8Wrn5jxv",
        "outputId": "ec21aa17-bced-4187-8c00-594f1732acf5"
      },
      "execution_count": null,
      "outputs": [
        {
          "output_type": "execute_result",
          "data": {
            "text/plain": [
              "'GGTCTTATGCATAAGACGAGGCACCTGAGACTGCTTGGCGCTACTTAACTCCGAAACCTTGATCCTGAGATCGTGCTAGTGTGCGGTGTCTATCTCCGGAAGCCGAGACAAAATTGAGGATTTAAGCTTGAAACTACCCTTTTAATTCACCAGAGATCTTTCCAGACAGAATAGTATCCTCCTGTTCCGGACCATCTGACACCGCATTATCGCACACTCCCTAGACATTTTAGGACTCGACGGAGTCTCGCACATCAGTAAGAAGAGAGCCAGAGCAGAATTTGGCCGCCTCCATGCTAGAGTGGGAAGCAGCATCCTGCATAGGCCGCCAGGGATTGCGGGATAGAAGCAGCTGCCGGTGACCCCGCCCTAGGTCGCAAGTGCGACGGACAAGCCAAAGACGAGTATCTAGCGTTAACTTTTAGCCTGTTTCGGTTGGCAGACACTTCACTATTAATTAGGACTTGACTAAGAATAGGCTAAGCTGAGTCTGCTTCTGGATTAAAACTGCAAAGCGATCATCTGTCAGCAGAGATGGGCCCGAGTCTCTTTACAAAAGACTCAAAACGAGCCGCTCGCTGAACCGCGTGACCGGGTACGGCGCGACCGCTTAGCGGTCAATGAATAGCTATTGTAGACCAATCCGTGCTCGGCACCCTCTCTCCATTTGGACCAGAGAATAGGATCGTTATTCGATCCTCGTGAGAGTCGACTACTACGCCGCTAGGCAACTAAGCACTTGCGCGGAGCCCACGGAATTCAAATTAGGAGTGATTATGGGTTCACTCTGCACGCTCAGGCCCAGGTAAGGTGCGCTATATTTATCCTCGGAATTGTTCACTACTTTTATCACGCTTGATGCAAGGTACGCTCGGGACGCACGCACATATCAAAGAGCTTGGAGTTGTCAGGGAATTTTTGACACAGCACAGGGGGGCAGGGTTGCGAGGGTGGCTCGAGTCATCCAGCAATGTGAGTTCGCATGCGGACTGCCGGCGAT'"
            ],
            "application/vnd.google.colaboratory.intrinsic+json": {
              "type": "string"
            }
          },
          "metadata": {},
          "execution_count": 10
        }
      ]
    },
    {
      "cell_type": "code",
      "source": [
        "compl_sub = replicacion(dna[:10])\n",
        "dna_sub = dna[:10]\n",
        "for i in range(10):\n",
        "  print(dna_sub[i], \"    \", compl_sub[9-i])"
      ],
      "metadata": {
        "colab": {
          "base_uri": "https://localhost:8080/"
        },
        "id": "VA24JzvU5-Yv",
        "outputId": "aa76c12a-2428-48d1-ec5e-e60a31cde554"
      },
      "execution_count": null,
      "outputs": [
        {
          "output_type": "stream",
          "name": "stdout",
          "text": [
            "A      T\n",
            "T      A\n",
            "C      G\n",
            "G      C\n",
            "C      G\n",
            "C      G\n",
            "G      C\n",
            "G      C\n",
            "C      G\n",
            "A      T\n"
          ]
        }
      ]
    },
    {
      "cell_type": "markdown",
      "source": [
        "**Ejercicio 4: Transcripción**"
      ],
      "metadata": {
        "id": "1BlaEVlDiuzr"
      }
    },
    {
      "cell_type": "markdown",
      "source": [
        "Haz una función que cambie el ADN por ARNm"
      ],
      "metadata": {
        "id": "V-q5CTeajX2r"
      }
    },
    {
      "cell_type": "code",
      "source": [
        "def ARNm(dna):\n",
        "    #El codigo aqui\n",
        "    return arn"
      ],
      "metadata": {
        "id": "tkr4uPZPm_qB"
      },
      "execution_count": null,
      "outputs": []
    }
  ]
}