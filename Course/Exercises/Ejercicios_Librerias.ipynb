{
  "nbformat": 4,
  "nbformat_minor": 0,
  "metadata": {
    "colab": {
      "provenance": []
    },
    "kernelspec": {
      "name": "python3",
      "display_name": "Python 3"
    },
    "language_info": {
      "name": "python"
    }
  },
  "cells": [
    {
      "cell_type": "markdown",
      "source": [
        "# Enlaces de Interés del curso"
      ],
      "metadata": {
        "id": "u2ootTCeSyNe"
      }
    },
    {
      "cell_type": "markdown",
      "source": [
        " En el siguiente enlace podeis encontrar un libro con tutoriales sobre BioPython: [Libro BioPython](http://biopython.org/DIST/docs/tutorial/Tutorial.html)\n",
        "\n",
        " La página web de NCBI la cual tiene distintas API que se pueden ver aqui: [APIs NCBI](https://www.ncbi.nlm.nih.gov/home/develop/api/)\n",
        "\n",
        " Información sobre la API de proteinas: [Protein API](https://www.ebi.ac.uk/proteins/api/doc/index.html)\n"
      ],
      "metadata": {
        "id": "RcNskQu8SPJ-"
      }
    },
    {
      "cell_type": "markdown",
      "source": [
        "## Ejercicios"
      ],
      "metadata": {
        "id": "bI65rsW0Fv_p"
      }
    },
    {
      "cell_type": "markdown",
      "source": [
        "**Ejercicio 1: Mutaciones**\n",
        "\n",
        "Haz un ejercicio que inserte mutaciones en una secuencia de forma aleatiora. La localización y el tipo de mutación deben ser aleatorias.\n",
        "\n",
        "**Tipos de mutaciones a utilizar en el ejercicio:**\n",
        "\n",
        "* Remplazo: Una base se cambia por otra.\n",
        "* Deleción: Una base se elimina.\n",
        "* Insercción: Introduce una baase en una posción aleatoria.\n"
      ],
      "metadata": {
        "id": "y69hWwQMFo-Z"
      }
    },
    {
      "cell_type": "code",
      "source": [
        "import \n",
        "\n",
        "bases = ['A','C','G','T']\n",
        "\n",
        "def remplazo(cadena, pos):\n",
        "    nueva_cadena = \n",
        "    return nueva_cadena\n",
        "\n",
        "def delecion(cadena, pos):\n",
        "    nueva_cadena = \n",
        "    return nueva_cadena\n",
        "  \n",
        "def inserccion(cadena,pos):\n",
        "    nueva_cadena = \n",
        "    return nueva_cadena\n",
        "\n",
        "funciones = [remplazo, delecion, inserccion]\n",
        "cadena = \"ACGAGTTTAGGG\"\n",
        "num_mut = 3\n",
        "\n",
        "for i in range(num_mut):\n",
        "    cadena = \n",
        "\n",
        "print(cadena)"
      ],
      "metadata": {
        "id": "Aa8ClH1Stkvk"
      },
      "execution_count": null,
      "outputs": []
    }
  ]
}