{
  "nbformat": 4,
  "nbformat_minor": 0,
  "metadata": {
    "colab": {
      "provenance": []
    },
    "kernelspec": {
      "name": "python3",
      "display_name": "Python 3"
    },
    "language_info": {
      "name": "python"
    }
  },
  "cells": [
    {
      "cell_type": "markdown",
      "source": [
        "**Ejercicio 1: Dividir por 0**\n",
        "\n",
        "Prueba a dividir por cero cualquier número ¿Qué error aparece? Haz un programa que pida al usuario dos números y los divida, trata la excepción en caso de que el denominador sea 0 con la estructura try-exception. Comprueba también que es un número."
      ],
      "metadata": {
        "id": "epJtHQBNDkdw"
      }
    },
    {
      "cell_type": "code",
      "source": [],
      "metadata": {
        "id": "fGwDcQ8NR-re"
      },
      "execution_count": null,
      "outputs": []
    },
    {
      "cell_type": "markdown",
      "source": [
        "**Ejercicio 2: Encuentra la base**\n",
        "\n",
        "Dada una lista de bases devuelve la base que se encuentre en la posición dada por el ususario. Por ejemplo si la lista es \"ATAAAC\" y el usuario nos pide la posición 0 devolveremos \"A\". ¿Que pasa si el usuario nos pide la posición 7 (una posición mayor del número de bases que contiene el String)? Trata este error con la estructura try-catch: "
      ],
      "metadata": {
        "id": "MSVt_HToPq-j"
      }
    },
    {
      "cell_type": "code",
      "source": [
        "dna = \"ATAGTGCTTCCTAATTAATAGTGAAGTGTCTGCGCCTCGTCTTATGCATAAGACC\""
      ],
      "metadata": {
        "id": "Gp2KUEfKQzXE"
      },
      "execution_count": null,
      "outputs": []
    },
    {
      "cell_type": "code",
      "source": [],
      "metadata": {
        "id": "e5l3GVNhR_59"
      },
      "execution_count": null,
      "outputs": []
    }
  ]
}