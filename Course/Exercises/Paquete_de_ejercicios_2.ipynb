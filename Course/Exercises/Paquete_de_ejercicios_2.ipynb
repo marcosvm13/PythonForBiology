{
  "nbformat": 4,
  "nbformat_minor": 0,
  "metadata": {
    "colab": {
      "provenance": []
    },
    "kernelspec": {
      "name": "python3",
      "display_name": "Python 3"
    },
    "language_info": {
      "name": "python"
    }
  },
  "cells": [
    {
      "cell_type": "markdown",
      "source": [
        "**Ejercicio 1**\n",
        "\n",
        "Para un número entero introducido por el usuario determina si es par (divisible entre 2) o impar: \n",
        "\n",
        "Ayuda: Recuerda el operador %"
      ],
      "metadata": {
        "id": "DN4AlSuS2tPc"
      }
    },
    {
      "cell_type": "code",
      "source": [],
      "metadata": {
        "id": "D0livm1PD_YS"
      },
      "execution_count": null,
      "outputs": []
    },
    {
      "cell_type": "markdown",
      "source": [
        "**Ejercicio 2**"
      ],
      "metadata": {
        "id": "OTzrOIsjh1ut"
      }
    },
    {
      "cell_type": "markdown",
      "source": [
        "Para un codón dado por el usuario imprime si es de inicio"
      ],
      "metadata": {
        "id": "ae3alpAaiDcd"
      }
    },
    {
      "cell_type": "code",
      "source": [],
      "metadata": {
        "id": "hg33_ZZoD_zi"
      },
      "execution_count": null,
      "outputs": []
    },
    {
      "cell_type": "markdown",
      "source": [
        "**Ejercicio 3**\n",
        "\n",
        "Repite el ejercicio 2 pero ahora muestra ademas si es de terminación."
      ],
      "metadata": {
        "id": "cr6FaL0Ij7N3"
      }
    },
    {
      "cell_type": "code",
      "source": [],
      "metadata": {
        "id": "n6vHHY8uEBhK"
      },
      "execution_count": null,
      "outputs": []
    }
  ]
}